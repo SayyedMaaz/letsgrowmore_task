{
 "cells": [
  {
   "cell_type": "code",
   "execution_count": 2,
   "metadata": {},
   "outputs": [],
   "source": [
    "# Step 1: Import necessary libraries\n",
    "import pandas as pd\n",
    "import numpy as np\n",
    "import matplotlib.pyplot as plt\n",
    "from sklearn.preprocessing import MinMaxScaler\n",
    "from tensorflow.keras.models import Sequential\n",
    "from tensorflow.keras.layers import LSTM, Dense\n",
    "\n",
    "\n"
   ]
  },
  {
   "cell_type": "code",
   "execution_count": null,
   "metadata": {},
   "outputs": [],
   "source": [
    "# Step 2: Load the dataset\n",
    "dataset_url = \"https://raw.githubusercontent.com/mwitiderrick/stockprice/master/NSE-TATAGLOBAL.csv\"\n",
    "df = pd.read_csv(dataset_url)\n"
   ]
  },
  {
   "cell_type": "code",
   "execution_count": 3,
   "metadata": {},
   "outputs": [],
   "source": [
    "# Step 3: Preprocess the data\n",
    "df['Date'] = pd.to_datetime(df['Date'])\n",
    "df.sort_values('Date', inplace=True)\n",
    "\n"
   ]
  },
  {
   "cell_type": "code",
   "execution_count": 5,
   "metadata": {},
   "outputs": [],
   "source": [
    "# Step 4: Split the dataset into training and testing sets\n",
    "train_size = int(len(df) * 0.8)\n",
    "train_data = df.iloc[:train_size, :]\n",
    "test_data = df.iloc[train_size:, :]\n"
   ]
  },
  {
   "cell_type": "code",
   "execution_count": 6,
   "metadata": {},
   "outputs": [],
   "source": [
    "# Step 5: Normalize the data\n",
    "scaler = MinMaxScaler(feature_range=(0, 1))\n",
    "scaled_train_data = scaler.fit_transform(train_data['Close'].values.reshape(-1, 1))\n",
    "scaled_test_data = scaler.transform(test_data['Close'].values.reshape(-1, 1))\n",
    "\n"
   ]
  },
  {
   "cell_type": "code",
   "execution_count": 7,
   "metadata": {},
   "outputs": [],
   "source": [
    "# Step 6: Create a stacked LSTM model\n",
    "model = Sequential()\n",
    "model.add(LSTM(units=50, return_sequences=True, input_shape=(1, 1)))\n",
    "model.add(LSTM(units=50))\n",
    "model.add(Dense(units=1))\n",
    "\n"
   ]
  },
  {
   "cell_type": "code",
   "execution_count": 8,
   "metadata": {},
   "outputs": [
    {
     "name": "stdout",
     "output_type": "stream",
     "text": [
      "Epoch 1/50\n",
      "1628/1628 [==============================] - 5s 2ms/step - loss: 0.0078\n",
      "Epoch 2/50\n",
      "1628/1628 [==============================] - 2s 2ms/step - loss: 4.2057e-05\n",
      "Epoch 3/50\n",
      "1628/1628 [==============================] - 3s 2ms/step - loss: 1.8876e-06\n",
      "Epoch 4/50\n",
      "1628/1628 [==============================] - 3s 2ms/step - loss: 7.0759e-06\n",
      "Epoch 5/50\n",
      "1628/1628 [==============================] - 3s 2ms/step - loss: 1.7721e-05\n",
      "Epoch 6/50\n",
      "1628/1628 [==============================] - 2s 2ms/step - loss: 1.8992e-05\n",
      "Epoch 7/50\n",
      "1628/1628 [==============================] - 3s 2ms/step - loss: 1.0767e-05\n",
      "Epoch 8/50\n",
      "1628/1628 [==============================] - 3s 2ms/step - loss: 1.3158e-05\n",
      "Epoch 9/50\n",
      "1628/1628 [==============================] - 5s 3ms/step - loss: 1.5410e-05\n",
      "Epoch 10/50\n",
      "1628/1628 [==============================] - 3s 2ms/step - loss: 1.3185e-05\n",
      "Epoch 11/50\n",
      "1628/1628 [==============================] - 3s 2ms/step - loss: 1.6810e-05\n",
      "Epoch 12/50\n",
      "1628/1628 [==============================] - 3s 2ms/step - loss: 9.8121e-06\n",
      "Epoch 13/50\n",
      "1628/1628 [==============================] - 2s 1ms/step - loss: 1.3754e-05\n",
      "Epoch 14/50\n",
      "1628/1628 [==============================] - 3s 2ms/step - loss: 1.3324e-05\n",
      "Epoch 15/50\n",
      "1628/1628 [==============================] - 3s 2ms/step - loss: 1.3899e-05\n",
      "Epoch 16/50\n",
      "1628/1628 [==============================] - 2s 2ms/step - loss: 2.1096e-05\n",
      "Epoch 17/50\n",
      "1628/1628 [==============================] - 3s 2ms/step - loss: 1.1148e-05\n",
      "Epoch 18/50\n",
      "1628/1628 [==============================] - 3s 2ms/step - loss: 1.0341e-05\n",
      "Epoch 19/50\n",
      "1628/1628 [==============================] - 3s 2ms/step - loss: 9.9760e-06\n",
      "Epoch 20/50\n",
      "1628/1628 [==============================] - 3s 2ms/step - loss: 1.1127e-05\n",
      "Epoch 21/50\n",
      "1628/1628 [==============================] - 2s 1ms/step - loss: 1.7714e-05\n",
      "Epoch 22/50\n",
      "1628/1628 [==============================] - 2s 1ms/step - loss: 6.2654e-06\n",
      "Epoch 23/50\n",
      "1628/1628 [==============================] - 4s 2ms/step - loss: 9.8492e-06\n",
      "Epoch 24/50\n",
      "1628/1628 [==============================] - 2s 1ms/step - loss: 1.6429e-05\n",
      "Epoch 25/50\n",
      "1628/1628 [==============================] - 2s 1ms/step - loss: 6.9876e-06\n",
      "Epoch 26/50\n",
      "1628/1628 [==============================] - 2s 2ms/step - loss: 1.0644e-05\n",
      "Epoch 27/50\n",
      "1628/1628 [==============================] - 2s 1ms/step - loss: 1.2483e-05\n",
      "Epoch 28/50\n",
      "1628/1628 [==============================] - 2s 1ms/step - loss: 1.3958e-05\n",
      "Epoch 29/50\n",
      "1628/1628 [==============================] - 2s 1ms/step - loss: 4.5098e-06\n",
      "Epoch 30/50\n",
      "1628/1628 [==============================] - 2s 1ms/step - loss: 1.2258e-05\n",
      "Epoch 31/50\n",
      "1628/1628 [==============================] - 2s 1ms/step - loss: 1.4094e-05\n",
      "Epoch 32/50\n",
      "1628/1628 [==============================] - 2s 1ms/step - loss: 7.0026e-06\n",
      "Epoch 33/50\n",
      "1628/1628 [==============================] - 2s 1ms/step - loss: 7.8419e-06\n",
      "Epoch 34/50\n",
      "1628/1628 [==============================] - 3s 2ms/step - loss: 9.6504e-06\n",
      "Epoch 35/50\n",
      "1628/1628 [==============================] - 2s 1ms/step - loss: 7.0648e-06\n",
      "Epoch 36/50\n",
      "1628/1628 [==============================] - 2s 1ms/step - loss: 1.0200e-05\n",
      "Epoch 37/50\n",
      "1628/1628 [==============================] - 4s 2ms/step - loss: 8.9495e-06\n",
      "Epoch 38/50\n",
      "1628/1628 [==============================] - 3s 2ms/step - loss: 5.6904e-06\n",
      "Epoch 39/50\n",
      "1628/1628 [==============================] - 2s 1ms/step - loss: 5.8111e-06\n",
      "Epoch 40/50\n",
      "1628/1628 [==============================] - 2s 2ms/step - loss: 2.2347e-05\n",
      "Epoch 41/50\n",
      "1628/1628 [==============================] - 2s 1ms/step - loss: 8.5261e-06\n",
      "Epoch 42/50\n",
      "1628/1628 [==============================] - 3s 2ms/step - loss: 3.8562e-06\n",
      "Epoch 43/50\n",
      "1628/1628 [==============================] - 3s 2ms/step - loss: 5.9146e-06\n",
      "Epoch 44/50\n",
      "1628/1628 [==============================] - 2s 1ms/step - loss: 6.9498e-06\n",
      "Epoch 45/50\n",
      "1628/1628 [==============================] - 2s 1ms/step - loss: 7.0475e-06\n",
      "Epoch 46/50\n",
      "1628/1628 [==============================] - 2s 1ms/step - loss: 5.4058e-06\n",
      "Epoch 47/50\n",
      "1628/1628 [==============================] - 2s 1ms/step - loss: 1.5758e-05\n",
      "Epoch 48/50\n",
      "1628/1628 [==============================] - 2s 1ms/step - loss: 1.2893e-05\n",
      "Epoch 49/50\n",
      "1628/1628 [==============================] - 2s 1ms/step - loss: 6.7415e-07\n",
      "Epoch 50/50\n",
      "1628/1628 [==============================] - 2s 1ms/step - loss: 1.0856e-05\n"
     ]
    },
    {
     "data": {
      "text/plain": [
       "<keras.callbacks.History at 0x25282007700>"
      ]
     },
     "execution_count": 8,
     "metadata": {},
     "output_type": "execute_result"
    }
   ],
   "source": [
    "# Step 7: Train the LSTM model\n",
    "model.compile(optimizer='adam', loss='mean_squared_error')\n",
    "model.fit(scaled_train_data, scaled_train_data, epochs=50, batch_size=1)\n",
    "\n"
   ]
  },
  {
   "cell_type": "code",
   "execution_count": 11,
   "metadata": {},
   "outputs": [
    {
     "name": "stdout",
     "output_type": "stream",
     "text": [
      "51/51 [==============================] - 0s 635us/step\n",
      "13/13 [==============================] - 0s 1ms/step\n"
     ]
    }
   ],
   "source": [
    "# Step 8: Evaluate the model's performance\n",
    "train_predictions = model.predict(scaled_train_data)\n",
    "test_predictions = model.predict(scaled_test_data)\n",
    "train_predictions = scaler.inverse_transform(train_predictions)\n",
    "test_predictions = scaler.inverse_transform(test_predictions)\n"
   ]
  },
  {
   "cell_type": "code",
   "execution_count": 9,
   "metadata": {},
   "outputs": [
    {
     "name": "stdout",
     "output_type": "stream",
     "text": [
      "13/13 [==============================] - 0s 913us/step\n"
     ]
    }
   ],
   "source": [
    "\n",
    "# Step 9: Make predictions on future stock prices or forecast the stock market\n",
    "future_data = df.iloc[train_size-1:, :]\n",
    "scaled_future_data = scaler.transform(future_data['Close'].values.reshape(-1, 1))\n",
    "future_prediction = model.predict(scaled_future_data)\n",
    "future_prediction = scaler.inverse_transform(future_prediction)\n",
    "\n"
   ]
  },
  {
   "cell_type": "code",
   "execution_count": 10,
   "metadata": {},
   "outputs": [
    {
     "data": {
      "image/png": "[encoded data removed]",
      "text/plain": [
       "<Figure size 640x480 with 1 Axes>"
      ]
     },
     "metadata": {},
     "output_type": "display_data"
    }
   ],
   "source": [
    "# Step 10: Visualize the results\n",
    "plt.plot(df['Date'], df['Close'], label='Actual')\n",
    "plt.plot(future_data['Date'], future_prediction, label='Forecast')\n",
    "plt.xlabel('Date')\n",
    "plt.ylabel('Stock Price')\n",
    "plt.title('Stock Market Forecast')\n",
    "plt.legend()\n",
    "plt.show()"
   ]
  },
  {
   "cell_type": "code",
   "execution_count": null,
   "metadata": {},
   "outputs": [],
   "source": []
  }
 ],
 "metadata": {
  "kernelspec": {
   "display_name": "base",
   "language": "python",
   "name": "python3"
  },
  "language_info": {
   "codemirror_mode": {
    "name": "ipython",
    "version": 3
   },
   "file_extension": ".py",
   "mimetype": "text/x-python",
   "name": "python",
   "nbconvert_exporter": "python",
   "pygments_lexer": "ipython3",
   "version": "3.9.13"
  },
  "orig_nbformat": 4
 },
 "nbformat": 4,
 "nbformat_minor": 2
}
